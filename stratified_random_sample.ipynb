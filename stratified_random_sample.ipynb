{
 "cells": [
  {
   "cell_type": "code",
   "execution_count": 6,
   "id": "35653e15",
   "metadata": {},
   "outputs": [],
   "source": [
    "import pandas as pd\n",
    "def strat_random_sample(csv_path):\n",
    "    '''\n",
    "        Function to perform stratified random sampling\n",
    "        :param csv_path: path to the csv file\n",
    "        :type csv_path: str\n",
    "        :return: bool \n",
    "    '''\n",
    "    assert(isinstance(csv_path, str))\n",
    "    try:\n",
    "        df = pd.read_csv(csv_path)\n",
    "        cols = [col for col in df.columns]\n",
    "        df = df[(df['StartDateTime'].notna()) &\n",
    "                (df['FileSize'] >= 46080192) & # checking if clips are a minute long and exceed 46.1 MB\n",
    "                (df['Duration'] >= 60)]\n",
    "        df['hour'] = pd.to_datetime(df['StartDateTime']).dt.hour.tolist()\n",
    "        df = df.groupby(['AudioMothCode', 'hour']).apply(lambda x: x.sample(1)).drop(columns='hour')\n",
    "    \n",
    "        if(df.size > 0):\n",
    "            df.to_csv('stratified_random_sample.csv', index=False)\n",
    "            return True\n",
    "        return False\n",
    "    except (FileNotFoundError):\n",
    "        print('File Not Found')\n",
    "    except Exception as e:\n",
    "        print(e.message)\n",
    "        print(e.args)"
   ]
  },
  {
   "cell_type": "code",
   "execution_count": 8,
   "id": "09c3af20",
   "metadata": {},
   "outputs": [
    {
     "name": "stdout",
     "output_type": "stream",
     "text": [
      "File Not Found\n"
     ]
    }
   ],
   "source": [
    "strat_random_sample('/AID Intro Assignment/Peru_2019_AudioMoth_Data_Full.csv')"
   ]
  },
  {
   "cell_type": "code",
   "execution_count": null,
   "id": "f874ce2a",
   "metadata": {},
   "outputs": [],
   "source": []
  }
 ],
 "metadata": {
  "kernelspec": {
   "display_name": "Python 3 (ipykernel)",
   "language": "python",
   "name": "python3"
  },
  "language_info": {
   "codemirror_mode": {
    "name": "ipython",
    "version": 3
   },
   "file_extension": ".py",
   "mimetype": "text/x-python",
   "name": "python",
   "nbconvert_exporter": "python",
   "pygments_lexer": "ipython3",
   "version": "3.8.11"
  }
 },
 "nbformat": 4,
 "nbformat_minor": 5
}
